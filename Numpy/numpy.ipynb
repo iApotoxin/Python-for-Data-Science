{
  "nbformat": 4,
  "nbformat_minor": 0,
  "metadata": {
    "colab": {
      "name": "numpy.ipynb",
      "provenance": [],
      "collapsed_sections": []
    },
    "kernelspec": {
      "name": "python3",
      "display_name": "Python 3"
    }
  },
  "cells": [
    {
      "cell_type": "markdown",
      "metadata": {
        "id": "P4wzB3yXTAAH",
        "colab_type": "text"
      },
      "source": [
        "**NumPy(Numeric Python) เป็น module ของ Python ที่มีฟังก์ชั่นด้านคณิตศาสตร์ และการจัดการกับชุดข้อมูลขนาดใหญ่อย่าง Array Vector และ Matrix\n",
        "\n",
        "Arrays สามารถดำเนินกับข้อมูลเชิงตัวเลขได้รวดเร็วและมีประสิทธิภาพดีกว่า List เราจะนำ Array มาใช้ในการสร้าง Vectors และ Matric\n",
        "**\n"
      ]
    },
    {
      "cell_type": "markdown",
      "metadata": {
        "id": "hm2Onjl-Z-dS",
        "colab_type": "text"
      },
      "source": [
        "Array 1 มิติ = Vectors\n",
        "\n",
        "Array 2 มิติ = Matrics\n",
        "\n",
        ".array จะใช้รับค่า หรือ List ที่เราจะเอามาสร้างเป็น Array"
      ]
    },
    {
      "cell_type": "code",
      "metadata": {
        "id": "rqj0sQamdJQL",
        "colab_type": "code",
        "outputId": "0fd78f37-2431-4e07-fad6-ae9b29ccf683",
        "colab": {
          "base_uri": "https://localhost:8080/",
          "height": 153
        }
      },
      "source": [
        "import numpy as np\n",
        "\n",
        "myNum = np.arange(10)\n",
        "print('Element of myNum : ', myNum)\n",
        "print(type(myNum))\n",
        "\n",
        "print(\"--------------------------------------------------------------\")\n",
        "\n",
        "myList = list(range(10))\n",
        "print('Element of myList : ', myList)\n",
        "print(type(myList))\n",
        "\n",
        "print(\"--------------------------------------------------------------\")\n",
        "\n",
        "myArray = np.array(np.arange(10))\n",
        "print('Element of myArray : ', myArray)\n",
        "print(type(myArray))"
      ],
      "execution_count": 0,
      "outputs": [
        {
          "output_type": "stream",
          "text": [
            "Element of myNum :  [0 1 2 3 4 5 6 7 8 9]\n",
            "<class 'numpy.ndarray'>\n",
            "--------------------------------------------------------------\n",
            "Element of myList :  [0, 1, 2, 3, 4, 5, 6, 7, 8, 9]\n",
            "<class 'list'>\n",
            "--------------------------------------------------------------\n",
            "Element of myArray :  [0 1 2 3 4 5 6 7 8 9]\n",
            "<class 'numpy.ndarray'>\n"
          ],
          "name": "stdout"
        }
      ]
    },
    {
      "cell_type": "code",
      "metadata": {
        "id": "Yt59cLMHTyJQ",
        "colab_type": "code",
        "outputId": "24f58ee0-a58b-4274-91cc-fdb28714c6ec",
        "colab": {
          "base_uri": "https://localhost:8080/",
          "height": 68
        }
      },
      "source": [
        "# Creating ndarrays\n",
        "# Convert Lit to Array\n",
        "\n",
        "arr1 = np.array([10,20,30,40])\n",
        "print(arr1)\n",
        "print(type(arr1))\n",
        "print(arr1.dtype)"
      ],
      "execution_count": 0,
      "outputs": [
        {
          "output_type": "stream",
          "text": [
            "[10 20 30 40]\n",
            "<class 'numpy.ndarray'>\n",
            "int64\n"
          ],
          "name": "stdout"
        }
      ]
    },
    {
      "cell_type": "code",
      "metadata": {
        "id": "G_HxRojv83v3",
        "colab_type": "code",
        "outputId": "5281500a-7648-46e7-fe6b-c34936edfa88",
        "colab": {
          "base_uri": "https://localhost:8080/",
          "height": 204
        }
      },
      "source": [
        "# Creating ndarrays\n",
        "# Convert Lit to Array and Covent Element Type\n",
        "# Convert integer to float\n",
        "\n",
        "arr2 = np.array([10,20,30,40],float) \n",
        "print(arr2)\n",
        "print(type(arr2))\n",
        "print(arr2.dtype)\n",
        "\n",
        "print(\"--------------------------------------------------------------\")\n",
        "\n",
        "print(arr2[0])\n",
        "print(arr2[1])\n",
        "print(arr2[2])\n",
        "print(arr2[3])\n",
        "\n",
        "print(\"--------------------------------------------------------------\")\n",
        "#Assign Value to Array\n",
        "\n",
        "arr2[0]=50   # Auto Covert int to float\n",
        "print(arr2)\n",
        "print(arr2.dtype)"
      ],
      "execution_count": 0,
      "outputs": [
        {
          "output_type": "stream",
          "text": [
            "[10. 20. 30. 40.]\n",
            "<class 'numpy.ndarray'>\n",
            "float64\n",
            "--------------------------------------------------------------\n",
            "10.0\n",
            "20.0\n",
            "30.0\n",
            "40.0\n",
            "--------------------------------------------------------------\n",
            "[50. 20. 30. 40.]\n",
            "float64\n"
          ],
          "name": "stdout"
        }
      ]
    },
    {
      "cell_type": "code",
      "metadata": {
        "id": "WtWhlODq68yI",
        "colab_type": "code",
        "outputId": "69376d95-d520-4d93-f139-eb8d67558ca2",
        "colab": {
          "base_uri": "https://localhost:8080/",
          "height": 119
        }
      },
      "source": [
        "## Creating ndarrays\n",
        "\n",
        "data1 = [6, 7.5, 8, 0, 1]\n",
        "arr3 = np.array(data1)\n",
        "print(arr3)\n",
        "print(arr3.dtype)\n",
        "\n",
        "print(\"--------------------------------------------------------------\")\n",
        "\n",
        "data2 = [[1, 2, 3, 4], [5, 6, 7, 8]]\n",
        "arr4 = np.array(data2)\n",
        "print(arr4)\n",
        "print(arr4.dtype)"
      ],
      "execution_count": 0,
      "outputs": [
        {
          "output_type": "stream",
          "text": [
            "[6.  7.5 8.  0.  1. ]\n",
            "float64\n",
            "--------------------------------------------------------------\n",
            "[[1 2 3 4]\n",
            " [5 6 7 8]]\n",
            "int64\n"
          ],
          "name": "stdout"
        }
      ]
    },
    {
      "cell_type": "code",
      "metadata": {
        "id": "bZV75YjlcVAj",
        "colab_type": "code",
        "outputId": "9e31d4f2-4155-49b5-a026-e000e412b6fc",
        "colab": {
          "base_uri": "https://localhost:8080/",
          "height": 204
        }
      },
      "source": [
        "arr5 = np.array([[10,20,30],[40,50,60]],float)\n",
        "print(arr5)\n",
        "print(type(arr5))\n",
        "print(arr5.dtype)\n",
        "\n",
        "print(\"--------------------------------------------------------------\")\n",
        "\n",
        "print(arr5[0,0])\n",
        "print(arr5[0,1])\n",
        "print(arr5[0,2])\n",
        "\n",
        "print(arr5[1,0])\n",
        "print(arr5[1,1])\n",
        "print(arr5[1,2])"
      ],
      "execution_count": 0,
      "outputs": [
        {
          "output_type": "stream",
          "text": [
            "[[10. 20. 30.]\n",
            " [40. 50. 60.]]\n",
            "<class 'numpy.ndarray'>\n",
            "float64\n",
            "--------------------------------------------------------------\n",
            "10.0\n",
            "20.0\n",
            "30.0\n",
            "40.0\n",
            "50.0\n",
            "60.0\n"
          ],
          "name": "stdout"
        }
      ]
    },
    {
      "cell_type": "code",
      "metadata": {
        "id": "JWG-SWHQ_J98",
        "colab_type": "code",
        "outputId": "9f888139-673a-4dfe-9ae0-9c35a43206d7",
        "colab": {
          "base_uri": "https://localhost:8080/",
          "height": 51
        }
      },
      "source": [
        "print(arr5.ndim)     # show dimensions of array\n",
        "\n",
        "print(arr5.shape)"
      ],
      "execution_count": 0,
      "outputs": [
        {
          "output_type": "stream",
          "text": [
            "2\n",
            "(2, 3)\n"
          ],
          "name": "stdout"
        }
      ]
    },
    {
      "cell_type": "code",
      "metadata": {
        "id": "dcwrP_sxe9uL",
        "colab_type": "code",
        "outputId": "4f9e4fba-6498-41f3-cb1f-3cf0d6b39a93",
        "colab": {
          "base_uri": "https://localhost:8080/",
          "height": 255
        }
      },
      "source": [
        "# Random Function\n",
        "\n",
        "data = np.random.randn(3, 4)\n",
        "print(data)\n",
        "\n",
        "print(\"--------------------------------------------------------------\")\n",
        "\n",
        "print(data.shape)\n",
        "print(data.dtype)\n",
        "\n",
        "print(\"--------------------------------------------------------------\")\n",
        "\n",
        "print(data + data)\n",
        "\n",
        "print(\"--------------------------------------------------------------\")\n",
        "\n",
        "print(data * 10)"
      ],
      "execution_count": 0,
      "outputs": [
        {
          "output_type": "stream",
          "text": [
            "[[-0.17590105 -0.7451358   0.13122489  0.44576995]\n",
            " [-0.21835492  1.6887855   0.38961992  1.1298608 ]\n",
            " [-0.61004026  0.87657162 -0.27767266 -2.14969534]]\n",
            "--------------------------------------------------------------\n",
            "(3, 4)\n",
            "float64\n",
            "--------------------------------------------------------------\n",
            "[[-0.3518021  -1.4902716   0.26244979  0.8915399 ]\n",
            " [-0.43670985  3.377571    0.77923984  2.25972161]\n",
            " [-1.22008052  1.75314324 -0.55534532 -4.29939068]]\n",
            "--------------------------------------------------------------\n",
            "[[ -1.75901052  -7.45135802   1.31224894   4.4576995 ]\n",
            " [ -2.18354924  16.88785499   3.89619918  11.29860804]\n",
            " [ -6.1004026    8.76571622  -2.77672659 -21.49695338]]\n"
          ],
          "name": "stdout"
        }
      ]
    },
    {
      "cell_type": "code",
      "metadata": {
        "id": "tL-LDt0yIQl-",
        "colab_type": "code",
        "outputId": "7125ba36-b95d-4d5b-db50-7eff94a1c35d",
        "colab": {
          "base_uri": "https://localhost:8080/",
          "height": 136
        }
      },
      "source": [
        "print(np.ones(10))\n",
        "\n",
        "print(\"--------------------------------------------------------------\")\n",
        "\n",
        "print(np.ones((5, 6)))"
      ],
      "execution_count": 0,
      "outputs": [
        {
          "output_type": "stream",
          "text": [
            "[1. 1. 1. 1. 1. 1. 1. 1. 1. 1.]\n",
            "--------------------------------------------------------------\n",
            "[[1. 1. 1. 1. 1. 1.]\n",
            " [1. 1. 1. 1. 1. 1.]\n",
            " [1. 1. 1. 1. 1. 1.]\n",
            " [1. 1. 1. 1. 1. 1.]\n",
            " [1. 1. 1. 1. 1. 1.]]\n"
          ],
          "name": "stdout"
        }
      ]
    },
    {
      "cell_type": "code",
      "metadata": {
        "id": "HW9z2S7EGt19",
        "colab_type": "code",
        "outputId": "9bc4ef97-d0a2-4040-f9e6-0208be2bcbc1",
        "colab": {
          "base_uri": "https://localhost:8080/",
          "height": 102
        }
      },
      "source": [
        "print(np.zeros(10))\n",
        "\n",
        "print(\"--------------------------------------------------------------\")\n",
        "\n",
        "print(np.zeros((3, 6)))"
      ],
      "execution_count": 0,
      "outputs": [
        {
          "output_type": "stream",
          "text": [
            "[0. 0. 0. 0. 0. 0. 0. 0. 0. 0.]\n",
            "--------------------------------------------------------------\n",
            "[[0. 0. 0. 0. 0. 0.]\n",
            " [0. 0. 0. 0. 0. 0.]\n",
            " [0. 0. 0. 0. 0. 0.]]\n"
          ],
          "name": "stdout"
        }
      ]
    },
    {
      "cell_type": "code",
      "metadata": {
        "id": "qGqGemDcLqYV",
        "colab_type": "code",
        "outputId": "96f31a29-cb91-418c-84d8-62075098c5f2",
        "colab": {
          "base_uri": "https://localhost:8080/",
          "height": 34
        }
      },
      "source": [
        "print(np.arange(15))"
      ],
      "execution_count": 0,
      "outputs": [
        {
          "output_type": "stream",
          "text": [
            "[ 0  1  2  3  4  5  6  7  8  9 10 11 12 13 14]\n"
          ],
          "name": "stdout"
        }
      ]
    },
    {
      "cell_type": "markdown",
      "metadata": {
        "id": "CmrU6Q50L5h0",
        "colab_type": "text"
      },
      "source": [
        "**Data Type**"
      ]
    },
    {
      "cell_type": "markdown",
      "metadata": {
        "id": "l42dFeJFL9Cd",
        "colab_type": "text"
      },
      "source": [
        "int8, uint8 |\n",
        "int16, uint16 |\n",
        "int32, uint32 |\n",
        "int64, uint64 |\n",
        "float16 | float32 | float64 | float128 |\n",
        "bool | object | string_ | unicode_\n"
      ]
    },
    {
      "cell_type": "code",
      "metadata": {
        "id": "z8u-h-MuMzbf",
        "colab_type": "code",
        "outputId": "e240cb6b-1d5e-47be-973e-49a70ab0b5f9",
        "colab": {
          "base_uri": "https://localhost:8080/",
          "height": 85
        }
      },
      "source": [
        "arr6 = np.array([1, 2, 3, 4, 5])\n",
        "print(arr6.dtype)\n",
        "\n",
        "print(\"--------------------------------------------------------------\")\n",
        "\n",
        "float_arr = arr6.astype(np.float64)\n",
        "\n",
        "print(float_arr)\n",
        "print(float_arr.dtype)"
      ],
      "execution_count": 0,
      "outputs": [
        {
          "output_type": "stream",
          "text": [
            "int64\n",
            "--------------------------------------------------------------\n",
            "[1. 2. 3. 4. 5.]\n",
            "float64\n"
          ],
          "name": "stdout"
        }
      ]
    },
    {
      "cell_type": "code",
      "metadata": {
        "id": "4WHqNC79PT0-",
        "colab_type": "code",
        "outputId": "937adcfa-d44b-4b0f-ae2e-2e9269086f1d",
        "colab": {
          "base_uri": "https://localhost:8080/",
          "height": 68
        }
      },
      "source": [
        "arr7 = np.array([3.7, -1.2, -2.6, 0.5, 12.9, 10.1])\n",
        "print(arr7)\n",
        "\n",
        "print(\"--------------------------------------------------------------\")\n",
        "\n",
        "print(arr7.astype(np.int32))"
      ],
      "execution_count": 0,
      "outputs": [
        {
          "output_type": "stream",
          "text": [
            "[ 3.7 -1.2 -2.6  0.5 12.9 10.1]\n",
            "--------------------------------------------------------------\n",
            "[ 3 -1 -2  0 12 10]\n"
          ],
          "name": "stdout"
        }
      ]
    },
    {
      "cell_type": "code",
      "metadata": {
        "id": "tYVMubu_Uwln",
        "colab_type": "code",
        "outputId": "28dd387d-3495-4766-fb3c-fb23f2e1a62c",
        "colab": {
          "base_uri": "https://localhost:8080/",
          "height": 221
        }
      },
      "source": [
        "numeric_unicode = np.array(['1.25', '-9.6', '42'])   # U --> Unicode_\n",
        "print(numeric_unicode)\n",
        "print(numeric_unicode.dtype)\n",
        "\n",
        "print(\"--------------------------------------------------------------\")\n",
        "\n",
        "numeric_float = numeric_strings.astype(float)\n",
        "print(numeric_float)\n",
        "print(numeric_float.dtype)\n",
        "\n",
        "print(\"--------------------------------------------------------------\")\n",
        "\n",
        "numeric_strings = np.array(['1.25', '-9.6', '42'],dtype=np.string_)   # S --> String_\n",
        "print(numeric_strings)\n",
        "print(numeric_strings.dtype)\n",
        "\n",
        "print(\"--------------------------------------------------------------\")\n",
        "\n",
        "num_float = np.array(['1.25', '-9.6', '42'],dtype=np.float64)   \n",
        "print(num_float)\n",
        "print(num_float.dtype)\n",
        "\n",
        "print(\"--------------------------------------------------------------\")\n",
        "\n",
        "#num_int = np.array(['1.25', '-9.6', '42'], dtype=np.int64)   \n",
        "#print(num_int)\n",
        "#print(num_int.dtype)"
      ],
      "execution_count": 0,
      "outputs": [
        {
          "output_type": "stream",
          "text": [
            "['1.25' '-9.6' '42']\n",
            "<U4\n",
            "--------------------------------------------------------------\n",
            "[ 1.25 -9.6  42.  ]\n",
            "float64\n",
            "--------------------------------------------------------------\n",
            "[b'1.25' b'-9.6' b'42']\n",
            "|S4\n",
            "--------------------------------------------------------------\n",
            "[ 1.25 -9.6  42.  ]\n",
            "float64\n",
            "--------------------------------------------------------------\n"
          ],
          "name": "stdout"
        }
      ]
    },
    {
      "cell_type": "code",
      "metadata": {
        "id": "8IivaT09SuBB",
        "colab_type": "code",
        "outputId": "36210d1b-0520-4f71-ea7a-2c1426e9ee1d",
        "colab": {
          "base_uri": "https://localhost:8080/",
          "height": 68
        }
      },
      "source": [
        "int_array = np.arange(10)\n",
        "calibers = np.array([.22, .270, .357, .380, .44, .50], dtype=np.float64)\n",
        "\n",
        "change_arr = int_array.astype(calibers.dtype)\n",
        "\n",
        "print(int_array.dtype)\n",
        "print(change_arr)\n",
        "print(change_arr.dtype)\n",
        "\n"
      ],
      "execution_count": 0,
      "outputs": [
        {
          "output_type": "stream",
          "text": [
            "int64\n",
            "[0. 1. 2. 3. 4. 5. 6. 7. 8. 9.]\n",
            "float64\n"
          ],
          "name": "stdout"
        }
      ]
    },
    {
      "cell_type": "markdown",
      "metadata": {
        "id": "WnZH1GB5ay2Y",
        "colab_type": "text"
      },
      "source": [
        "**Arithmetic with NumPy Arrays**"
      ]
    },
    {
      "cell_type": "code",
      "metadata": {
        "id": "-vcXYM9Ya1am",
        "colab_type": "code",
        "outputId": "93d636cd-d02c-40a8-8b4b-924a17a96353",
        "colab": {
          "base_uri": "https://localhost:8080/",
          "height": 442
        }
      },
      "source": [
        "arr8 = np.array([[1., 2., 3.], [4., 5., 6.]])\n",
        "print(arr8)\n",
        "\n",
        "arr9 = np.array([[0., 4., 1.], [7., 2., 12.]])\n",
        "print (arr9)\n",
        "\n",
        "print(\"--------------------------------------------------------------\")\n",
        "\n",
        "print(arr8 + arr8)\n",
        "\n",
        "print(\"--------------------------------------------------------------\")\n",
        "\n",
        "print(arr8 - arr8)\n",
        "\n",
        "print(\"--------------------------------------------------------------\")\n",
        "\n",
        "print(arr8 * arr8)\n",
        "\n",
        "print(\"--------------------------------------------------------------\")\n",
        "\n",
        "print(arr8 / arr8)\n",
        "\n",
        "print(\"--------------------------------------------------------------\")\n",
        "\n",
        "print(1 / arr8)\n",
        "\n",
        "print(\"--------------------------------------------------------------\")\n",
        "\n",
        "print(arr8 ** 2)\n",
        "\n",
        "print(\"--------------------------------------------------------------\")\n",
        "\n",
        "print(arr9 > arr8) # compare value by value"
      ],
      "execution_count": 0,
      "outputs": [
        {
          "output_type": "stream",
          "text": [
            "[[1. 2. 3.]\n",
            " [4. 5. 6.]]\n",
            "[[ 0.  4.  1.]\n",
            " [ 7.  2. 12.]]\n",
            "--------------------------------------------------------------\n",
            "[[ 2.  4.  6.]\n",
            " [ 8. 10. 12.]]\n",
            "--------------------------------------------------------------\n",
            "[[0. 0. 0.]\n",
            " [0. 0. 0.]]\n",
            "--------------------------------------------------------------\n",
            "[[ 1.  4.  9.]\n",
            " [16. 25. 36.]]\n",
            "--------------------------------------------------------------\n",
            "[[1. 1. 1.]\n",
            " [1. 1. 1.]]\n",
            "--------------------------------------------------------------\n",
            "[[1.         0.5        0.33333333]\n",
            " [0.25       0.2        0.16666667]]\n",
            "--------------------------------------------------------------\n",
            "[[ 1.  4.  9.]\n",
            " [16. 25. 36.]]\n",
            "--------------------------------------------------------------\n",
            "[[False  True False]\n",
            " [ True False  True]]\n"
          ],
          "name": "stdout"
        }
      ]
    },
    {
      "cell_type": "markdown",
      "metadata": {
        "id": "2tr9Yd-5c_ch",
        "colab_type": "text"
      },
      "source": [
        "**Basic Indexing and Slicing**"
      ]
    },
    {
      "cell_type": "code",
      "metadata": {
        "id": "n21kfdmQdCVf",
        "colab_type": "code",
        "outputId": "455d5b01-136a-4083-8336-aeab19157833",
        "colab": {
          "base_uri": "https://localhost:8080/",
          "height": 119
        }
      },
      "source": [
        "arr10 = np.arange(10)\n",
        "print(arr10)\n",
        "\n",
        "print(\"--------------------------------------------------------------\")\n",
        "\n",
        "print('arr10[5] : ',arr10[5])\n",
        "print('arr10[5:8] : ',arr10[5:8])\n",
        "\n",
        "print(\"--------------------------------------------------------------\")\n",
        "\n",
        "arr10[5:8] = 12\n",
        "print(arr10)"
      ],
      "execution_count": 0,
      "outputs": [
        {
          "output_type": "stream",
          "text": [
            "[0 1 2 3 4 5 6 7 8 9]\n",
            "--------------------------------------------------------------\n",
            "arr10[5] :  5\n",
            "arr10[5:8] :  [5 6 7]\n",
            "--------------------------------------------------------------\n",
            "[ 0  1  2  3  4 12 12 12  8  9]\n"
          ],
          "name": "stdout"
        }
      ]
    },
    {
      "cell_type": "code",
      "metadata": {
        "id": "KHc15o5Qe7XQ",
        "colab_type": "code",
        "outputId": "0c01f358-039b-4648-b6da-f0a6f0686492",
        "colab": {
          "base_uri": "https://localhost:8080/",
          "height": 136
        }
      },
      "source": [
        "arr11 = np.arange(10)\n",
        "print(arr11)\n",
        "\n",
        "print(\"--------------------------------------------------------------\")\n",
        "\n",
        "arr_slice = arr11[5:8]\n",
        "print(arr_slice)\n",
        "\n",
        "print(\"--------------------------------------------------------------\")\n",
        "\n",
        "arr_slice[1] = 600\n",
        "print(arr11)\n",
        "\n",
        "print(\"--------------------------------------------------------------\")\n",
        "\n",
        "arr_slice[:] = 100\n",
        "print(arr11)"
      ],
      "execution_count": 0,
      "outputs": [
        {
          "output_type": "stream",
          "text": [
            "[0 1 2 3 4 5 6 7 8 9]\n",
            "--------------------------------------------------------------\n",
            "[5 6 7]\n",
            "--------------------------------------------------------------\n",
            "[  0   1   2   3   4   5 600   7   8   9]\n",
            "--------------------------------------------------------------\n",
            "[  0   1   2   3   4 100 100 100   8   9]\n"
          ],
          "name": "stdout"
        }
      ]
    },
    {
      "cell_type": "code",
      "metadata": {
        "id": "Hfs5cQBOgVrA",
        "colab_type": "code",
        "outputId": "1739cfc6-15bc-4afb-d4dc-d5f15f84b316",
        "colab": {
          "base_uri": "https://localhost:8080/",
          "height": 136
        }
      },
      "source": [
        "arr2d = np.array([[1, 2, 3], [4, 5, 6], [7, 8, 9]])\n",
        "\n",
        "print(arr2d[0])\n",
        "print(arr2d[1])\n",
        "print(arr2d[2])\n",
        "\n",
        "print(\"--------------------------------------------------------------\")\n",
        "\n",
        "print(arr2d[0][2])\n",
        "\n",
        "print(\"--------------------------------------------------------------\")\n",
        "\n",
        "print(arr2d[0, 2])"
      ],
      "execution_count": 0,
      "outputs": [
        {
          "output_type": "stream",
          "text": [
            "[1 2 3]\n",
            "[4 5 6]\n",
            "[7 8 9]\n",
            "--------------------------------------------------------------\n",
            "3\n",
            "--------------------------------------------------------------\n",
            "3\n"
          ],
          "name": "stdout"
        }
      ]
    },
    {
      "cell_type": "code",
      "metadata": {
        "id": "DhrKXNNJh57K",
        "colab_type": "code",
        "outputId": "fce99f60-0c79-44a4-f503-731e63c6045c",
        "colab": {
          "base_uri": "https://localhost:8080/",
          "height": 289
        }
      },
      "source": [
        "arr3d = np.array([[[1, 2, 3], [4, 5, 6]], [[7, 8, 9], [10, 11, 12]]])\n",
        "print(arr3d)\n",
        "\n",
        "print(\"--------------------------------------------------------------\")\n",
        "\n",
        "print(arr3d[0])\n",
        "print(arr3d[1])\n",
        "\n",
        "print(\"--------------------------------------------------------------\")\n",
        "\n",
        "arr3d[0] = 50\n",
        "print(arr3d)"
      ],
      "execution_count": 0,
      "outputs": [
        {
          "output_type": "stream",
          "text": [
            "[[[ 1  2  3]\n",
            "  [ 4  5  6]]\n",
            "\n",
            " [[ 7  8  9]\n",
            "  [10 11 12]]]\n",
            "--------------------------------------------------------------\n",
            "[[1 2 3]\n",
            " [4 5 6]]\n",
            "[[ 7  8  9]\n",
            " [10 11 12]]\n",
            "--------------------------------------------------------------\n",
            "[[[50 50 50]\n",
            "  [50 50 50]]\n",
            "\n",
            " [[ 7  8  9]\n",
            "  [10 11 12]]]\n"
          ],
          "name": "stdout"
        }
      ]
    },
    {
      "cell_type": "code",
      "metadata": {
        "id": "9sIN0rH8lf8Z",
        "colab_type": "code",
        "outputId": "28f7f965-bead-42cf-9af6-d74d4cec92b3",
        "colab": {
          "base_uri": "https://localhost:8080/",
          "height": 119
        }
      },
      "source": [
        "arr12 = np.array([0,1,2,3,4,100,100,100,8,9])\n",
        "print(arr12)\n",
        "\n",
        "print(arr12[1:6])\n",
        "\n",
        "print(\"--------------------------------------------------------------\")\n",
        "\n",
        "print(arr12[:3])\n",
        "\n",
        "print(\"--------------------------------------------------------------\")\n",
        "\n",
        "print(arr12[::2])"
      ],
      "execution_count": 0,
      "outputs": [
        {
          "output_type": "stream",
          "text": [
            "[  0   1   2   3   4 100 100 100   8   9]\n",
            "[  1   2   3   4 100]\n",
            "--------------------------------------------------------------\n",
            "[0 1 2]\n",
            "--------------------------------------------------------------\n",
            "[  0   2   4 100   8]\n"
          ],
          "name": "stdout"
        }
      ]
    },
    {
      "cell_type": "code",
      "metadata": {
        "id": "SZtiLSwsm6an",
        "colab_type": "code",
        "outputId": "3779951f-2beb-47b4-bb90-1cdedf554489",
        "colab": {
          "base_uri": "https://localhost:8080/",
          "height": 136
        }
      },
      "source": [
        "arr13 = np.array([[1, 2, 3] , [4, 5, 6] , [7, 8, 9]])\n",
        "print(arr13)\n",
        "\n",
        "print(\"--------------------------------------------------------------\")\n",
        "\n",
        "print(arr13[:2, 1:])\n",
        "\n",
        "print(\"--------------------------------------------------------------\")"
      ],
      "execution_count": 0,
      "outputs": [
        {
          "output_type": "stream",
          "text": [
            "[[1 2 3]\n",
            " [4 5 6]\n",
            " [7 8 9]]\n",
            "--------------------------------------------------------------\n",
            "[[2 3]\n",
            " [5 6]]\n",
            "--------------------------------------------------------------\n"
          ],
          "name": "stdout"
        }
      ]
    },
    {
      "cell_type": "markdown",
      "metadata": {
        "id": "qlz6xUKZo1YT",
        "colab_type": "text"
      },
      "source": [
        "**Boolean Indexing**"
      ]
    },
    {
      "cell_type": "code",
      "metadata": {
        "id": "UNW5na1XLIox",
        "colab_type": "code",
        "outputId": "977f96e5-97ff-4405-8135-912020bbb6b6",
        "colab": {
          "base_uri": "https://localhost:8080/",
          "height": 578
        }
      },
      "source": [
        "names = np.array(['Bob', 'Joe', 'Will', 'Bob', 'Will', 'Joe', 'Joe'])\n",
        "print(names)\n",
        "\n",
        "print(\"--------------------------------------------------------------\")\n",
        "\n",
        "dataA = np.random.randn(7, 4)\n",
        "print(dataA)\n",
        "\n",
        "print(\"--------------------------------------------------------------\")\n",
        "\n",
        "print(names == 'Bob')\n",
        "\n",
        "print(\"--------------------------------------------------------------\")\n",
        "\n",
        "print(dataA[names == 'Bob'])   #dataA[0] , data[3]\n",
        "\n",
        "print(\"--------------------------------------------------------------\")\n",
        "\n",
        "print(dataA[names == 'Bob', 2:])  # [0,2:] , [3,2:]\n",
        "\n",
        "print(\"--------------------------------------------------------------\")\n",
        "\n",
        "print(dataA[names == 'Bob', 3])  # [0,3] , [3,3]\n",
        "\n",
        "print(\"--------------------------------------------------------------\")\n",
        "\n",
        "print(names != 'Bob')\n",
        "\n",
        "print(\"--------------------------------------------------------------\")\n",
        "\n",
        "print(dataA[~(names == 'Bob')])\n",
        "\n",
        "print(\"--------------------------------------------------------------\")\n",
        "\n",
        "cond = names == 'Bob'\n",
        "print(dataA[~cond])"
      ],
      "execution_count": 0,
      "outputs": [
        {
          "output_type": "stream",
          "text": [
            "['Bob' 'Joe' 'Will' 'Bob' 'Will' 'Joe' 'Joe']\n",
            "--------------------------------------------------------------\n",
            "[[-0.8696816   0.1442822   1.50245052  0.7355276 ]\n",
            " [ 0.08167731 -0.2668244   1.10552783 -0.04934033]\n",
            " [ 1.43179824 -0.85742932  0.15983799  1.0470198 ]\n",
            " [-1.70669658 -0.22663859  1.03654845 -0.0099931 ]\n",
            " [-1.98273376  0.31590213  0.7980076  -1.24420564]\n",
            " [-0.76779977 -2.26326126 -0.93865744  0.98382986]\n",
            " [-0.96906981  0.12507771 -1.33916579  0.47652534]]\n",
            "--------------------------------------------------------------\n",
            "[ True False False  True False False False]\n",
            "--------------------------------------------------------------\n",
            "[[-0.8696816   0.1442822   1.50245052  0.7355276 ]\n",
            " [-1.70669658 -0.22663859  1.03654845 -0.0099931 ]]\n",
            "--------------------------------------------------------------\n",
            "[[ 1.50245052  0.7355276 ]\n",
            " [ 1.03654845 -0.0099931 ]]\n",
            "--------------------------------------------------------------\n",
            "[ 0.7355276 -0.0099931]\n",
            "--------------------------------------------------------------\n",
            "[False  True  True False  True  True  True]\n",
            "--------------------------------------------------------------\n",
            "[[ 0.08167731 -0.2668244   1.10552783 -0.04934033]\n",
            " [ 1.43179824 -0.85742932  0.15983799  1.0470198 ]\n",
            " [-1.98273376  0.31590213  0.7980076  -1.24420564]\n",
            " [-0.76779977 -2.26326126 -0.93865744  0.98382986]\n",
            " [-0.96906981  0.12507771 -1.33916579  0.47652534]]\n",
            "--------------------------------------------------------------\n",
            "[[ 0.08167731 -0.2668244   1.10552783 -0.04934033]\n",
            " [ 1.43179824 -0.85742932  0.15983799  1.0470198 ]\n",
            " [-1.98273376  0.31590213  0.7980076  -1.24420564]\n",
            " [-0.76779977 -2.26326126 -0.93865744  0.98382986]\n",
            " [-0.96906981  0.12507771 -1.33916579  0.47652534]]\n"
          ],
          "name": "stdout"
        }
      ]
    },
    {
      "cell_type": "code",
      "metadata": {
        "id": "C5HiUVDBT2jX",
        "colab_type": "code",
        "outputId": "0b2e4f44-be51-4215-a245-e8ff6dfe27ca",
        "colab": {
          "base_uri": "https://localhost:8080/",
          "height": 255
        }
      },
      "source": [
        "mask = (names == 'Bob') | (names == 'Will')  \n",
        "print(mask)\n",
        "\n",
        "print(\"--------------------------------------------------------------\")\n",
        "\n",
        "print(dataA)\n",
        "\n",
        "print(\"--------------------------------------------------------------\")\n",
        "\n",
        "print(dataA[mask])  # 0,2,3,4"
      ],
      "execution_count": 0,
      "outputs": [
        {
          "output_type": "stream",
          "text": [
            "[ True False  True  True  True False False]\n",
            "--------------------------------------------------------------\n",
            "[[-0.8696816   0.1442822   1.50245052  0.7355276 ]\n",
            " [ 0.08167731 -0.2668244   1.10552783 -0.04934033]\n",
            " [ 1.43179824 -0.85742932  0.15983799  1.0470198 ]\n",
            " [-1.70669658 -0.22663859  1.03654845 -0.0099931 ]\n",
            " [-1.98273376  0.31590213  0.7980076  -1.24420564]\n",
            " [-0.76779977 -2.26326126 -0.93865744  0.98382986]\n",
            " [-0.96906981  0.12507771 -1.33916579  0.47652534]]\n",
            "--------------------------------------------------------------\n",
            "[[-0.8696816   0.1442822   1.50245052  0.7355276 ]\n",
            " [ 1.43179824 -0.85742932  0.15983799  1.0470198 ]\n",
            " [-1.70669658 -0.22663859  1.03654845 -0.0099931 ]\n",
            " [-1.98273376  0.31590213  0.7980076  -1.24420564]]\n"
          ],
          "name": "stdout"
        }
      ]
    },
    {
      "cell_type": "code",
      "metadata": {
        "id": "G-sqlTqbXIAx",
        "colab_type": "code",
        "outputId": "b15491ca-e471-4ee3-aa86-e3007d83fc65",
        "colab": {
          "base_uri": "https://localhost:8080/",
          "height": 136
        }
      },
      "source": [
        "dataA[dataA < 0] = 0   # จำนวนลบ (น้อยกว่า 0) ถูกแทนด้วย 0\n",
        "print(dataA)"
      ],
      "execution_count": 0,
      "outputs": [
        {
          "output_type": "stream",
          "text": [
            "[[0.         0.1442822  1.50245052 0.7355276 ]\n",
            " [0.08167731 0.         1.10552783 0.        ]\n",
            " [1.43179824 0.         0.15983799 1.0470198 ]\n",
            " [0.         0.         1.03654845 0.        ]\n",
            " [0.         0.31590213 0.7980076  0.        ]\n",
            " [0.         0.         0.         0.98382986]\n",
            " [0.         0.12507771 0.         0.47652534]]\n"
          ],
          "name": "stdout"
        }
      ]
    },
    {
      "cell_type": "code",
      "metadata": {
        "id": "hv3Ei-_vXp0g",
        "colab_type": "code",
        "outputId": "d57a40e8-280a-4157-fea9-df0aac0eb04c",
        "colab": {
          "base_uri": "https://localhost:8080/",
          "height": 136
        }
      },
      "source": [
        "dataA[names != 'Joe'] = 7\n",
        "print(dataA)"
      ],
      "execution_count": 0,
      "outputs": [
        {
          "output_type": "stream",
          "text": [
            "[[7.         7.         7.         7.        ]\n",
            " [0.08167731 0.         1.10552783 0.        ]\n",
            " [7.         7.         7.         7.        ]\n",
            " [7.         7.         7.         7.        ]\n",
            " [7.         7.         7.         7.        ]\n",
            " [0.         0.         0.         0.98382986]\n",
            " [0.         0.12507771 0.         0.47652534]]\n"
          ],
          "name": "stdout"
        }
      ]
    },
    {
      "cell_type": "markdown",
      "metadata": {
        "id": "NxjcVhYyYYco",
        "colab_type": "text"
      },
      "source": [
        "**Fancy Indexing**"
      ]
    },
    {
      "cell_type": "code",
      "metadata": {
        "id": "0-O7XKSlYc5v",
        "colab_type": "code",
        "outputId": "cb386c56-51c1-42ba-d660-83122b66b988",
        "colab": {
          "base_uri": "https://localhost:8080/",
          "height": 153
        }
      },
      "source": [
        "arr14 = np.empty((8, 4))\n",
        "\n",
        "for i in range(8):\n",
        "  arr14[i] = i\n",
        "\n",
        "print(arr14)"
      ],
      "execution_count": 0,
      "outputs": [
        {
          "output_type": "stream",
          "text": [
            "[[0. 0. 0. 0.]\n",
            " [1. 1. 1. 1.]\n",
            " [2. 2. 2. 2.]\n",
            " [3. 3. 3. 3.]\n",
            " [4. 4. 4. 4.]\n",
            " [5. 5. 5. 5.]\n",
            " [6. 6. 6. 6.]\n",
            " [7. 7. 7. 7.]]\n"
          ],
          "name": "stdout"
        }
      ]
    },
    {
      "cell_type": "code",
      "metadata": {
        "id": "6ckR96akZTdh",
        "colab_type": "code",
        "outputId": "d8f8043b-9de8-4535-b46a-305aa6d818a7",
        "colab": {
          "base_uri": "https://localhost:8080/",
          "height": 153
        }
      },
      "source": [
        "arr15 = np.arange(32).reshape((8, 4))\n",
        "print(arr15)"
      ],
      "execution_count": 0,
      "outputs": [
        {
          "output_type": "stream",
          "text": [
            "[[ 0  1  2  3]\n",
            " [ 4  5  6  7]\n",
            " [ 8  9 10 11]\n",
            " [12 13 14 15]\n",
            " [16 17 18 19]\n",
            " [20 21 22 23]\n",
            " [24 25 26 27]\n",
            " [28 29 30 31]]\n"
          ],
          "name": "stdout"
        }
      ]
    },
    {
      "cell_type": "markdown",
      "metadata": {
        "id": "KXh5O15VaHeQ",
        "colab_type": "text"
      },
      "source": [
        "**Transposing Arrays and Flatten**"
      ]
    },
    {
      "cell_type": "code",
      "metadata": {
        "id": "NpJJLrHqaMUg",
        "colab_type": "code",
        "outputId": "5c2dc301-2a9c-4a7c-b6cc-561d76c59854",
        "colab": {
          "base_uri": "https://localhost:8080/",
          "height": 119
        }
      },
      "source": [
        "arrayA = np.array([[1,2,3],[4,5,6]],float)\n",
        "print(arrayA)\n",
        "\n",
        "print(\"--------------------------------------------------------------\")\n",
        "\n",
        "arrayB = arrayA.transpose()\n",
        "print(arrayB)"
      ],
      "execution_count": 0,
      "outputs": [
        {
          "output_type": "stream",
          "text": [
            "[[1. 2. 3.]\n",
            " [4. 5. 6.]]\n",
            "--------------------------------------------------------------\n",
            "[[1. 4.]\n",
            " [2. 5.]\n",
            " [3. 6.]]\n"
          ],
          "name": "stdout"
        }
      ]
    },
    {
      "cell_type": "code",
      "metadata": {
        "id": "9_9vDWcWbuYm",
        "colab_type": "code",
        "outputId": "de9887eb-ca9d-4c0b-ed77-1428508068b3",
        "colab": {
          "base_uri": "https://localhost:8080/",
          "height": 85
        }
      },
      "source": [
        "# Arrayหลายมิติสามารถทาให้เหลือมิติเดียวได้โดยใช้ฟังก์ชันflatten()\n",
        "\n",
        "arrayC = np.array([[1,2,3],[4,5,6]],float)\n",
        "print(arrayC)\n",
        "\n",
        "print(\"--------------------------------------------------------------\")\n",
        "\n",
        "print(arrayC.flatten())"
      ],
      "execution_count": 0,
      "outputs": [
        {
          "output_type": "stream",
          "text": [
            "[[1. 2. 3.]\n",
            " [4. 5. 6.]]\n",
            "--------------------------------------------------------------\n",
            "[1. 2. 3. 4. 5. 6.]\n"
          ],
          "name": "stdout"
        }
      ]
    },
    {
      "cell_type": "markdown",
      "metadata": {
        "id": "DtgYTkVPd3QC",
        "colab_type": "text"
      },
      "source": [
        "**Universal Functions: Fast Element-Wise Array Functions**"
      ]
    },
    {
      "cell_type": "code",
      "metadata": {
        "id": "nuHUKAzmd97a",
        "colab_type": "code",
        "outputId": "f3d62ff6-ae08-453d-bef9-834beed4049e",
        "colab": {
          "base_uri": "https://localhost:8080/",
          "height": 68
        }
      },
      "source": [
        "# ฟังก์ชัน arange คล้ายกับฟังก์ชัน range แต่คืนค่าเป็น array\n",
        "\n",
        "arrayD = np.arange(5,dtype=float)\n",
        "print(arrayD)\n",
        "\n",
        "print(\"--------------------------------------------------------------\")\n",
        "\n",
        "arrayE = np.arange(1,6,2,dtype=float)\n",
        "print(arrayE)"
      ],
      "execution_count": 0,
      "outputs": [
        {
          "output_type": "stream",
          "text": [
            "[0. 1. 2. 3. 4.]\n",
            "--------------------------------------------------------------\n",
            "[1. 3. 5.]\n"
          ],
          "name": "stdout"
        }
      ]
    },
    {
      "cell_type": "code",
      "metadata": {
        "id": "Idq0ltO3e-jX",
        "colab_type": "code",
        "outputId": "c317b66c-81d4-4954-ac0e-3f8b5f0001af",
        "colab": {
          "base_uri": "https://localhost:8080/",
          "height": 153
        }
      },
      "source": [
        "arr16 = np.arange(10)\n",
        "print(arr16)\n",
        "\n",
        "print(\"--------------------------------------------------------------\")\n",
        "\n",
        "print(np.sqrt(arr16))  # square root\n",
        "\n",
        "print(\"--------------------------------------------------------------\")\n",
        "\n",
        "print(np.exp(arr16))  # exponent"
      ],
      "execution_count": 0,
      "outputs": [
        {
          "output_type": "stream",
          "text": [
            "[0 1 2 3 4 5 6 7 8 9]\n",
            "--------------------------------------------------------------\n",
            "[0.         1.         1.41421356 1.73205081 2.         2.23606798\n",
            " 2.44948974 2.64575131 2.82842712 3.        ]\n",
            "--------------------------------------------------------------\n",
            "[1.00000000e+00 2.71828183e+00 7.38905610e+00 2.00855369e+01\n",
            " 5.45981500e+01 1.48413159e+02 4.03428793e+02 1.09663316e+03\n",
            " 2.98095799e+03 8.10308393e+03]\n"
          ],
          "name": "stdout"
        }
      ]
    },
    {
      "cell_type": "code",
      "metadata": {
        "id": "w2K8qvucgbiN",
        "colab_type": "code",
        "outputId": "d29e09d0-1217-4796-970c-271c465e8065",
        "colab": {
          "base_uri": "https://localhost:8080/",
          "height": 136
        }
      },
      "source": [
        "x = np.random.randn(8)\n",
        "y = np.random.randn(8)\n",
        "\n",
        "print(x)\n",
        "print(y)\n",
        "\n",
        "print(\"--------------------------------------------------------------\")\n",
        "\n",
        "print(np.maximum(x, y))"
      ],
      "execution_count": 0,
      "outputs": [
        {
          "output_type": "stream",
          "text": [
            "[ 1.38795881  0.49942465  0.53167653  1.52001773 -1.32468767  0.2014821\n",
            "  0.65207017  2.28268894]\n",
            "[ 1.88097894 -0.96729982  1.12299066  0.45517695  0.89212832  0.56936499\n",
            " -0.335135   -0.35496694]\n",
            "--------------------------------------------------------------\n",
            "[1.88097894 0.49942465 1.12299066 1.52001773 0.89212832 0.56936499\n",
            " 0.65207017 2.28268894]\n"
          ],
          "name": "stdout"
        }
      ]
    },
    {
      "cell_type": "code",
      "metadata": {
        "id": "wAqTxS00g4Ea",
        "colab_type": "code",
        "outputId": "4ca682c3-88d5-4915-f193-5862b27079c6",
        "colab": {
          "base_uri": "https://localhost:8080/",
          "height": 51
        }
      },
      "source": [
        "a1 = np.array([2,4,3],float)\n",
        "\n",
        "print(a1.sum())    #หาผลรวม\n",
        "print(a1.prod())   #หาผลคูณ"
      ],
      "execution_count": 0,
      "outputs": [
        {
          "output_type": "stream",
          "text": [
            "9.0\n",
            "24.0\n"
          ],
          "name": "stdout"
        }
      ]
    },
    {
      "cell_type": "code",
      "metadata": {
        "id": "Ax60ky3zhpwB",
        "colab_type": "code",
        "outputId": "de2b1167-51df-4a1a-acbd-0d7e12c620b6",
        "colab": {
          "base_uri": "https://localhost:8080/",
          "height": 34
        }
      },
      "source": [
        "a2 =np.array([[0,-2],[3,-1],[3,-5]],float)\n",
        "\n",
        "print(a2.sum())"
      ],
      "execution_count": 0,
      "outputs": [
        {
          "output_type": "stream",
          "text": [
            "-2.0\n"
          ],
          "name": "stdout"
        }
      ]
    },
    {
      "cell_type": "code",
      "metadata": {
        "id": "mesP0SSjiMSq",
        "colab_type": "code",
        "outputId": "6c667cfe-f9b4-4bee-9073-bb4baae8049d",
        "colab": {
          "base_uri": "https://localhost:8080/",
          "height": 170
        }
      },
      "source": [
        "#modf Function\n",
        "\n",
        "arr17 = np.random.randn(7) * 5\n",
        "print(arr17)\n",
        "\n",
        "print(\"--------------------------------------------------------------\")\n",
        "\n",
        "remainder = np.modf(arr17)\n",
        "print(remainder)\n",
        "\n",
        "print(\"--------------------------------------------------------------\")\n",
        "\n",
        "xR , yR = np.modf(arr17)\n",
        "print(xR)\n",
        "print(yR)"
      ],
      "execution_count": 0,
      "outputs": [
        {
          "output_type": "stream",
          "text": [
            "[ 8.45301719 -3.1421398  -9.74791518  3.47225037 -2.26213956  3.72023414\n",
            " -4.22405608]\n",
            "--------------------------------------------------------------\n",
            "(array([ 0.45301719, -0.1421398 , -0.74791518,  0.47225037, -0.26213956,\n",
            "        0.72023414, -0.22405608]), array([ 8., -3., -9.,  3., -2.,  3., -4.]))\n",
            "--------------------------------------------------------------\n",
            "[ 0.45301719 -0.1421398  -0.74791518  0.47225037 -0.26213956  0.72023414\n",
            " -0.22405608]\n",
            "[ 8. -3. -9.  3. -2.  3. -4.]\n"
          ],
          "name": "stdout"
        }
      ]
    },
    {
      "cell_type": "code",
      "metadata": {
        "id": "4C_REPh8kLyU",
        "colab_type": "code",
        "outputId": "6c7515e9-d96a-4326-9260-c8da622d269c",
        "colab": {
          "base_uri": "https://localhost:8080/",
          "height": 85
        }
      },
      "source": [
        "arr18 = np.array([5,3,9],float)\n",
        "\n",
        "print(arr18.max())\n",
        "print(arr18.min())\n",
        "print(arr18.argmax())    # argmax() ฟังก์ชันสาหรับการหาตาแหน่งของค่าที่มากที่สุด\n",
        "print(arr18.argmin())    # argmin() ฟังก์ชันสาหรับการหาตาแหน่งของค่าที่น้อยที่สุด"
      ],
      "execution_count": 0,
      "outputs": [
        {
          "output_type": "stream",
          "text": [
            "9.0\n",
            "3.0\n",
            "2\n",
            "1\n"
          ],
          "name": "stdout"
        }
      ]
    },
    {
      "cell_type": "code",
      "metadata": {
        "id": "gqZB9eRVkzIB",
        "colab_type": "code",
        "outputId": "71d33390-174d-4b71-b4e3-8d5a1b9e297e",
        "colab": {
          "base_uri": "https://localhost:8080/",
          "height": 34
        }
      },
      "source": [
        "arr19 = np.array([6,4,8,2,9],float)\n",
        "arr20 = sorted(arr19)\n",
        "\n",
        "print(arr20)"
      ],
      "execution_count": 0,
      "outputs": [
        {
          "output_type": "stream",
          "text": [
            "[2.0, 4.0, 6.0, 8.0, 9.0]\n"
          ],
          "name": "stdout"
        }
      ]
    },
    {
      "cell_type": "markdown",
      "metadata": {
        "id": "uI44FAaWmJAx",
        "colab_type": "text"
      },
      "source": [
        "**Array-Oriented Programming with Arrays**"
      ]
    },
    {
      "cell_type": "code",
      "metadata": {
        "id": "2WpCAhukmDKI",
        "colab_type": "code",
        "outputId": "db985197-c32f-4b44-9043-4ef0c01fea41",
        "colab": {
          "base_uri": "https://localhost:8080/",
          "height": 577
        }
      },
      "source": [
        "#The np.meshgrid function takes two 1D arrays and produces two 2D matrices corresponding to all pairs of (x, y) in the two arrays\n",
        "\n",
        "points = np.arange(-5, 5, 0.01)\n",
        "\n",
        "xs, ys = np.meshgrid(points, points)\n",
        "print(ys)\n",
        "\n",
        "print(\"--------------------------------------------------------------\")\n",
        "\n",
        "z = np.sqrt(xs ** 2 + ys ** 2)\n",
        "print (z)\n",
        "\n",
        "print(\"--------------------------------------------------------------\")\n",
        "\n",
        "import matplotlib.pyplot as plt\n",
        "\n",
        "plt.imshow(z, cmap=plt.cm.gray); \n",
        "plt.colorbar()\n",
        "plt.title(\"Image plot of $\\sqrt{x^2 + y^2}$ for a grid of values\")"
      ],
      "execution_count": 66,
      "outputs": [
        {
          "output_type": "stream",
          "text": [
            "[[-5.   -5.   -5.   ... -5.   -5.   -5.  ]\n",
            " [-4.99 -4.99 -4.99 ... -4.99 -4.99 -4.99]\n",
            " [-4.98 -4.98 -4.98 ... -4.98 -4.98 -4.98]\n",
            " ...\n",
            " [ 4.97  4.97  4.97 ...  4.97  4.97  4.97]\n",
            " [ 4.98  4.98  4.98 ...  4.98  4.98  4.98]\n",
            " [ 4.99  4.99  4.99 ...  4.99  4.99  4.99]]\n",
            "--------------------------------------------------------------\n",
            "[[7.07106781 7.06400028 7.05693985 ... 7.04988652 7.05693985 7.06400028]\n",
            " [7.06400028 7.05692568 7.04985815 ... 7.04279774 7.04985815 7.05692568]\n",
            " [7.05693985 7.04985815 7.04278354 ... 7.03571603 7.04278354 7.04985815]\n",
            " ...\n",
            " [7.04988652 7.04279774 7.03571603 ... 7.0286414  7.03571603 7.04279774]\n",
            " [7.05693985 7.04985815 7.04278354 ... 7.03571603 7.04278354 7.04985815]\n",
            " [7.06400028 7.05692568 7.04985815 ... 7.04279774 7.04985815 7.05692568]]\n",
            "--------------------------------------------------------------\n"
          ],
          "name": "stdout"
        },
        {
          "output_type": "execute_result",
          "data": {
            "text/plain": [
              "Text(0.5, 1.0, 'Image plot of $\\\\sqrt{x^2 + y^2}$ for a grid of values')"
            ]
          },
          "metadata": {
            "tags": []
          },
          "execution_count": 66
        },
        {
          "output_type": "display_data",
          "data": {
            "image/png": "[encoded data removed]",
            "text/plain": [
              "<Figure size 432x288 with 2 Axes>"
            ]
          },
          "metadata": {
            "tags": []
          }
        }
      ]
    },
    {
      "cell_type": "code",
      "metadata": {
        "id": "F3unSYGH8268",
        "colab_type": "code",
        "colab": {
          "base_uri": "https://localhost:8080/",
          "height": 34
        },
        "outputId": "6dd78ca5-37d3-4dd2-f5e6-4f75334b734c"
      },
      "source": [
        "xarr = np.array([1.1, 1.2, 1.3, 1.4, 1.5])\n",
        "yarr = np.array([2.1, 2.2, 2.3, 2.4, 2.5])\n",
        "cond = np.array([True, False, True, True, False])\n",
        "\n",
        "result = [(x if c else y)\n",
        "  for x, y, c in zip(xarr, yarr, cond)]\n",
        "\n",
        "print(result)"
      ],
      "execution_count": 63,
      "outputs": [
        {
          "output_type": "stream",
          "text": [
            "[1.1, 2.2, 1.3, 1.4, 2.5]\n"
          ],
          "name": "stdout"
        }
      ]
    },
    {
      "cell_type": "code",
      "metadata": {
        "id": "PbjFtehiAkwz",
        "colab_type": "code",
        "colab": {
          "base_uri": "https://localhost:8080/",
          "height": 34
        },
        "outputId": "ff095df8-dfc7-45cf-96df-1cfb74964d1d"
      },
      "source": [
        "result = np.where(cond, xarr, yarr)\n",
        "print(result)"
      ],
      "execution_count": 64,
      "outputs": [
        {
          "output_type": "stream",
          "text": [
            "[1.1 2.2 1.3 1.4 2.5]\n"
          ],
          "name": "stdout"
        }
      ]
    },
    {
      "cell_type": "code",
      "metadata": {
        "id": "UQ8D9PCYA30_",
        "colab_type": "code",
        "colab": {
          "base_uri": "https://localhost:8080/",
          "height": 340
        },
        "outputId": "d25fced7-14cd-4128-e546-594325983253"
      },
      "source": [
        "arr21 = np.random.randn(4, 4)\n",
        "print(arr21)\n",
        "\n",
        "print(\"--------------------------------------------------------------\")\n",
        "\n",
        "print(arr21 > 0)\n",
        "\n",
        "print(\"--------------------------------------------------------------\")\n",
        "\n",
        "print(np.where(arr21 > 0, 2, -2))\n",
        "\n",
        "print(\"--------------------------------------------------------------\")\n",
        "\n",
        "print(np.where(arr21 > 0, 2, arr21))"
      ],
      "execution_count": 72,
      "outputs": [
        {
          "output_type": "stream",
          "text": [
            "[[-1.7014589   1.39347757  0.07217043  1.20378806]\n",
            " [ 0.72324635  1.36996022  0.12330464  1.67518545]\n",
            " [-0.5393775   2.34229259  0.0436666  -0.82625785]\n",
            " [ 0.08363839  0.25465467 -1.29586716 -0.42641078]]\n",
            "--------------------------------------------------------------\n",
            "[[False  True  True  True]\n",
            " [ True  True  True  True]\n",
            " [False  True  True False]\n",
            " [ True  True False False]]\n",
            "--------------------------------------------------------------\n",
            "[[-2  2  2  2]\n",
            " [ 2  2  2  2]\n",
            " [-2  2  2 -2]\n",
            " [ 2  2 -2 -2]]\n",
            "--------------------------------------------------------------\n",
            "[[-1.7014589   2.          2.          2.        ]\n",
            " [ 2.          2.          2.          2.        ]\n",
            " [-0.5393775   2.          2.         -0.82625785]\n",
            " [ 2.          2.         -1.29586716 -0.42641078]]\n"
          ],
          "name": "stdout"
        }
      ]
    },
    {
      "cell_type": "markdown",
      "metadata": {
        "id": "N-ZgH7BrBygI",
        "colab_type": "text"
      },
      "source": [
        "**Mathematical and Statistical Methods**"
      ]
    },
    {
      "cell_type": "code",
      "metadata": {
        "id": "gMaVS-WrB1go",
        "colab_type": "code",
        "colab": {
          "base_uri": "https://localhost:8080/",
          "height": 272
        },
        "outputId": "77877562-077d-402b-c6a5-b6e88079e77d"
      },
      "source": [
        "arr22 = np.array([[0,-2],[3,-1],[3,-5]],float)\n",
        "print(arr22)\n",
        "\n",
        "print(\"--------------------------------------------------------------\")\n",
        "\n",
        "print(arr22.mean(axis=0))     # แนวตั้ง\n",
        "\n",
        "print(\"--------------------------------------------------------------\")\n",
        "\n",
        "print(arr22.mean(axis=1))     # แนวนอน\n",
        "\n",
        "print(\"--------------------------------------------------------------\")\n",
        "\n",
        "print(arr22.max(axis=0))\n",
        "\n",
        "print(\"--------------------------------------------------------------\")\n",
        "\n",
        "print(arr22.max(axis=1))\n",
        "\n",
        "print(\"--------------------------------------------------------------\")\n",
        "\n",
        "print(arr22.min(axis=0))\n",
        "\n",
        "print(\"--------------------------------------------------------------\")\n",
        "\n",
        "print(arr22.min(axis=1))"
      ],
      "execution_count": 77,
      "outputs": [
        {
          "output_type": "stream",
          "text": [
            "[[ 0. -2.]\n",
            " [ 3. -1.]\n",
            " [ 3. -5.]]\n",
            "--------------------------------------------------------------\n",
            "[ 2.         -2.66666667]\n",
            "--------------------------------------------------------------\n",
            "[-1.  1. -1.]\n",
            "--------------------------------------------------------------\n",
            "[ 3. -1.]\n",
            "--------------------------------------------------------------\n",
            "[0. 3. 3.]\n",
            "--------------------------------------------------------------\n",
            "[ 0. -5.]\n",
            "--------------------------------------------------------------\n",
            "[-2. -1. -5.]\n"
          ],
          "name": "stdout"
        }
      ]
    },
    {
      "cell_type": "code",
      "metadata": {
        "id": "mzLBjfMwF56J",
        "colab_type": "code",
        "colab": {
          "base_uri": "https://localhost:8080/",
          "height": 204
        },
        "outputId": "0614d62d-6c85-4301-f779-12676e67b727"
      },
      "source": [
        "arr23 = np.random.randn(5, 4)\n",
        "print(arr23)\n",
        "\n",
        "print(\"--------------------------------------------------------------\")\n",
        "\n",
        "print(arr23.mean())\n",
        "print(np.mean(arr23))\n",
        "\n",
        "print(\"--------------------------------------------------------------\")\n",
        "\n",
        "print(arr23.sum())\n",
        "print(arr23.sum()/20)   # test mean"
      ],
      "execution_count": 85,
      "outputs": [
        {
          "output_type": "stream",
          "text": [
            "[[ 0.35837035 -0.73652131 -0.66548018 -1.79785102]\n",
            " [-0.99541685  0.92134822 -0.54994417  1.48387686]\n",
            " [ 1.79192017 -1.70793996 -0.47592042  0.44194763]\n",
            " [ 0.89854124  0.12615706 -0.64593085  0.68304211]\n",
            " [-1.37429937  0.35264036  0.38941009 -1.0397526 ]]\n",
            "--------------------------------------------------------------\n",
            "-0.12709013236093686\n",
            "-0.12709013236093686\n",
            "--------------------------------------------------------------\n",
            "-2.5418026472187374\n",
            "-0.12709013236093686\n"
          ],
          "name": "stdout"
        }
      ]
    },
    {
      "cell_type": "code",
      "metadata": {
        "id": "XILsbL3HKEda",
        "colab_type": "code",
        "colab": {
          "base_uri": "https://localhost:8080/",
          "height": 68
        },
        "outputId": "3546c3cd-8e6d-4591-d728-7cbf14fd9eb5"
      },
      "source": [
        "arr24 = np.array([0, 1, 2, 3, 4, 5, 6, 7])\n",
        "print(arr24)\n",
        "\n",
        "print(\"--------------------------------------------------------------\")\n",
        "\n",
        "print(arr24.cumsum())  #compute sum down the rows"
      ],
      "execution_count": 90,
      "outputs": [
        {
          "output_type": "stream",
          "text": [
            "[0 1 2 3 4 5 6 7]\n",
            "--------------------------------------------------------------\n",
            "[ 0  1  3  6 10 15 21 28]\n"
          ],
          "name": "stdout"
        }
      ]
    },
    {
      "cell_type": "code",
      "metadata": {
        "id": "piA01ZvMKG_j",
        "colab_type": "code",
        "colab": {
          "base_uri": "https://localhost:8080/",
          "height": 136
        },
        "outputId": "dada7e15-03ef-44e1-b9d4-ceba8bb5e7f5"
      },
      "source": [
        "arr25 = np.array([[0, 1, 2], [3, 4, 5], [6, 7, 8]])\n",
        "print(arr25)\n",
        "\n",
        "print(\"--------------------------------------------------------------\")\n",
        "\n",
        "print(arr25.cumsum(axis=0)) # แนวตั้ง\n"
      ],
      "execution_count": 94,
      "outputs": [
        {
          "output_type": "stream",
          "text": [
            "[[0 1 2]\n",
            " [3 4 5]\n",
            " [6 7 8]]\n",
            "--------------------------------------------------------------\n",
            "[[ 0  1  2]\n",
            " [ 3  5  7]\n",
            " [ 9 12 15]]\n"
          ],
          "name": "stdout"
        }
      ]
    },
    {
      "cell_type": "code",
      "metadata": {
        "id": "yHC-JqKVNRCr",
        "colab_type": "code",
        "colab": {
          "base_uri": "https://localhost:8080/",
          "height": 136
        },
        "outputId": "03e45919-567c-472f-e795-0bde6cce0c5d"
      },
      "source": [
        "print(arr25)\n",
        "\n",
        "print(\"--------------------------------------------------------------\")\n",
        "\n",
        "print(arr25.cumsum(axis=1))"
      ],
      "execution_count": 95,
      "outputs": [
        {
          "output_type": "stream",
          "text": [
            "[[0 1 2]\n",
            " [3 4 5]\n",
            " [6 7 8]]\n",
            "--------------------------------------------------------------\n",
            "[[ 0  1  3]\n",
            " [ 3  7 12]\n",
            " [ 6 13 21]]\n"
          ],
          "name": "stdout"
        }
      ]
    },
    {
      "cell_type": "code",
      "metadata": {
        "id": "1kDiJWfjNJTS",
        "colab_type": "code",
        "colab": {
          "base_uri": "https://localhost:8080/",
          "height": 136
        },
        "outputId": "be4f56f9-3f7f-44e4-9999-bc391d3fd5f4"
      },
      "source": [
        "print(arr25)\n",
        "\n",
        "print(\"--------------------------------------------------------------\")\n",
        "\n",
        "print(arr25.cumprod(axis=0))\n"
      ],
      "execution_count": 96,
      "outputs": [
        {
          "output_type": "stream",
          "text": [
            "[[0 1 2]\n",
            " [3 4 5]\n",
            " [6 7 8]]\n",
            "--------------------------------------------------------------\n",
            "[[ 0  1  2]\n",
            " [ 0  4 10]\n",
            " [ 0 28 80]]\n"
          ],
          "name": "stdout"
        }
      ]
    },
    {
      "cell_type": "code",
      "metadata": {
        "id": "h8ApBliyNbug",
        "colab_type": "code",
        "colab": {
          "base_uri": "https://localhost:8080/",
          "height": 136
        },
        "outputId": "e5bbce30-c8e7-435d-c0fb-7d4c5fe3cdac"
      },
      "source": [
        "print(arr25)\n",
        "\n",
        "print(\"--------------------------------------------------------------\")\n",
        "\n",
        "print(arr25.cumprod(axis=1))"
      ],
      "execution_count": 97,
      "outputs": [
        {
          "output_type": "stream",
          "text": [
            "[[0 1 2]\n",
            " [3 4 5]\n",
            " [6 7 8]]\n",
            "--------------------------------------------------------------\n",
            "[[  0   0   0]\n",
            " [  3  12  60]\n",
            " [  6  42 336]]\n"
          ],
          "name": "stdout"
        }
      ]
    },
    {
      "cell_type": "code",
      "metadata": {
        "id": "CdPRkhY1PbaR",
        "colab_type": "code",
        "colab": {
          "base_uri": "https://localhost:8080/",
          "height": 68
        },
        "outputId": "aa872454-7a23-431b-9d59-586c9a7d534c"
      },
      "source": [
        "arrStat = np.array([2,4,9],float)\n",
        "\n",
        "print(arrStat.mean())\n",
        "print(arrStat.var())  # variance\n",
        "print(arrStat.std())  # standard deviation"
      ],
      "execution_count": 105,
      "outputs": [
        {
          "output_type": "stream",
          "text": [
            "5.0\n",
            "8.666666666666666\n",
            "2.943920288775949\n"
          ],
          "name": "stdout"
        }
      ]
    },
    {
      "cell_type": "markdown",
      "metadata": {
        "id": "wbnv8ZmHNnkY",
        "colab_type": "text"
      },
      "source": [
        "**Methods for Boolean Arrays**"
      ]
    },
    {
      "cell_type": "code",
      "metadata": {
        "id": "8UTJYePLNo2x",
        "colab_type": "code",
        "colab": {
          "base_uri": "https://localhost:8080/",
          "height": 85
        },
        "outputId": "bcebd34c-7cfc-4ca7-8ac0-12404d5342f4"
      },
      "source": [
        "arr26 = np.random.randn(10)\n",
        "print(arr26)\n",
        "\n",
        "print(\"--------------------------------------------------------------\")\n",
        "\n",
        "print((arr26 > 0).sum())"
      ],
      "execution_count": 101,
      "outputs": [
        {
          "output_type": "stream",
          "text": [
            "[-1.69752411  0.84028482 -0.47103675 -0.0549969   0.3792598  -1.51566336\n",
            "  1.05666369  0.61857813  0.84217214 -0.30378657]\n",
            "--------------------------------------------------------------\n",
            "5\n"
          ],
          "name": "stdout"
        }
      ]
    },
    {
      "cell_type": "code",
      "metadata": {
        "id": "R_T-oJjiO6Nf",
        "colab_type": "code",
        "colab": {
          "base_uri": "https://localhost:8080/",
          "height": 136
        },
        "outputId": "5f6c396b-bb5e-4678-fab8-575ebcade263"
      },
      "source": [
        "bools = np.array([False, False, False, True])\n",
        "print(bools)\n",
        "\n",
        "print(\"--------------------------------------------------------------\")\n",
        "\n",
        "print(bools.any())   # any ใช้ทดสอบว่าหนึ่งค่าหรือมากกว่าในอาร์เรย์เป็นจริง\n",
        "\n",
        "print(\"--------------------------------------------------------------\")\n",
        "\n",
        "print(bools.all())  # all ใช้ตรวจสอบว่าทุกค่าเป็นจริง\n",
        "\n",
        "print(\"--------------------------------------------------------------\")\n",
        "\n",
        "bools2 = np.array([True, True, True, True])\n",
        "print(bools2.all())"
      ],
      "execution_count": 109,
      "outputs": [
        {
          "output_type": "stream",
          "text": [
            "[False False False  True]\n",
            "--------------------------------------------------------------\n",
            "True\n",
            "--------------------------------------------------------------\n",
            "False\n",
            "--------------------------------------------------------------\n",
            "True\n"
          ],
          "name": "stdout"
        }
      ]
    },
    {
      "cell_type": "markdown",
      "metadata": {
        "id": "wCsagu8NRh1L",
        "colab_type": "text"
      },
      "source": [
        "**Sorting**"
      ]
    },
    {
      "cell_type": "code",
      "metadata": {
        "id": "tGuovPcuRi_J",
        "colab_type": "code",
        "colab": {
          "base_uri": "https://localhost:8080/",
          "height": 68
        },
        "outputId": "b0a3051b-27c3-4163-9453-da864661bd8c"
      },
      "source": [
        "arr27 = np.random.randn(5)\n",
        "print(arr27)\n",
        "\n",
        "print(\"--------------------------------------------------------------\")\n",
        "\n",
        "arr27.sort()\n",
        "print(arr27)"
      ],
      "execution_count": 112,
      "outputs": [
        {
          "output_type": "stream",
          "text": [
            "[ 0.56286342  0.07533306 -0.66661029  1.74571781 -1.82338884]\n",
            "--------------------------------------------------------------\n",
            "[-1.82338884 -0.66661029  0.07533306  0.56286342  1.74571781]\n"
          ],
          "name": "stdout"
        }
      ]
    },
    {
      "cell_type": "code",
      "metadata": {
        "id": "Z_YpWcG9SYci",
        "colab_type": "code",
        "colab": {
          "base_uri": "https://localhost:8080/",
          "height": 306
        },
        "outputId": "8dc74408-c6b5-4fdc-e4fe-e66b2ee97185"
      },
      "source": [
        "arr28 = np.random.randn(5, 3)\n",
        "print(arr28)\n",
        "\n",
        "print(\"--------------------------------------------------------------\")\n",
        "\n",
        "arr28.sort(0)  # แนวตั้ง\n",
        "print(arr28)\n",
        "\n",
        "print(\"--------------------------------------------------------------\")\n",
        "\n",
        "arr28.sort(1) # แนวนอน\n",
        "print(arr28)"
      ],
      "execution_count": 114,
      "outputs": [
        {
          "output_type": "stream",
          "text": [
            "[[ 0.59874499  0.10853003 -0.64568084]\n",
            " [-0.30154064 -0.59621721  0.16625094]\n",
            " [ 2.60353925 -0.52933593  0.59318351]\n",
            " [ 1.641956    0.54830103  1.74577724]\n",
            " [ 0.11754562  2.4483032   0.03911274]]\n",
            "--------------------------------------------------------------\n",
            "[[-0.30154064 -0.59621721 -0.64568084]\n",
            " [ 0.11754562 -0.52933593  0.03911274]\n",
            " [ 0.59874499  0.10853003  0.16625094]\n",
            " [ 1.641956    0.54830103  0.59318351]\n",
            " [ 2.60353925  2.4483032   1.74577724]]\n",
            "--------------------------------------------------------------\n",
            "[[-0.64568084 -0.59621721 -0.30154064]\n",
            " [-0.52933593  0.03911274  0.11754562]\n",
            " [ 0.10853003  0.16625094  0.59874499]\n",
            " [ 0.54830103  0.59318351  1.641956  ]\n",
            " [ 1.74577724  2.4483032   2.60353925]]\n"
          ],
          "name": "stdout"
        }
      ]
    },
    {
      "cell_type": "markdown",
      "metadata": {
        "id": "jPYqUdf9TA0j",
        "colab_type": "text"
      },
      "source": [
        "**Unique and Other Set Logic**"
      ]
    },
    {
      "cell_type": "code",
      "metadata": {
        "id": "qE-CaSXcTB7D",
        "colab_type": "code",
        "colab": {
          "base_uri": "https://localhost:8080/",
          "height": 34
        },
        "outputId": "c11181b6-ff15-4f51-bef3-51d37f5885ea"
      },
      "source": [
        "names = np.array(['Bob', 'Joe', 'Will', 'Bob', 'Will', 'Joe', 'Joe'])\n",
        "\n",
        "print(np.unique(names))"
      ],
      "execution_count": 115,
      "outputs": [
        {
          "output_type": "stream",
          "text": [
            "['Bob' 'Joe' 'Will']\n"
          ],
          "name": "stdout"
        }
      ]
    },
    {
      "cell_type": "code",
      "metadata": {
        "id": "XX9cAhzpTNnA",
        "colab_type": "code",
        "colab": {
          "base_uri": "https://localhost:8080/",
          "height": 34
        },
        "outputId": "104ee17f-8086-48b3-9661-088518e0907d"
      },
      "source": [
        "ints = np.array([3, 3, 3, 2, 2, 1, 1, 4, 4])\n",
        "\n",
        "print(np.unique(ints))"
      ],
      "execution_count": 116,
      "outputs": [
        {
          "output_type": "stream",
          "text": [
            "[1 2 3 4]\n"
          ],
          "name": "stdout"
        }
      ]
    },
    {
      "cell_type": "code",
      "metadata": {
        "id": "WvnUuNGmTZVq",
        "colab_type": "code",
        "colab": {
          "base_uri": "https://localhost:8080/",
          "height": 34
        },
        "outputId": "d9fd6dd7-764b-4d40-db32-2f5a41b912ea"
      },
      "source": [
        "print(sorted(set(names)))"
      ],
      "execution_count": 117,
      "outputs": [
        {
          "output_type": "stream",
          "text": [
            "['Bob', 'Joe', 'Will']\n"
          ],
          "name": "stdout"
        }
      ]
    },
    {
      "cell_type": "code",
      "metadata": {
        "id": "mWXBsjo4Tl86",
        "colab_type": "code",
        "colab": {
          "base_uri": "https://localhost:8080/",
          "height": 34
        },
        "outputId": "9814f1b4-4e24-4116-fb50-8a28ffc1c4f4"
      },
      "source": [
        "values = np.array([6, 0, 0, 3, 2, 5, 6])\n",
        "\n",
        "print(np.in1d(values, [2, 3, 6]))"
      ],
      "execution_count": 118,
      "outputs": [
        {
          "output_type": "stream",
          "text": [
            "[ True False False  True  True False  True]\n"
          ],
          "name": "stdout"
        }
      ]
    },
    {
      "cell_type": "markdown",
      "metadata": {
        "id": "u4brfQcNTuwA",
        "colab_type": "text"
      },
      "source": [
        "**File Input and Output with Arrays**"
      ]
    },
    {
      "cell_type": "code",
      "metadata": {
        "id": "RaL0qle0TwJs",
        "colab_type": "code",
        "colab": {}
      },
      "source": [
        "arr29 = np.arange(10)\n",
        "\n",
        "np.save('some_array', arr29)"
      ],
      "execution_count": 0,
      "outputs": []
    },
    {
      "cell_type": "code",
      "metadata": {
        "id": "YLVkBjSMT-D1",
        "colab_type": "code",
        "colab": {
          "base_uri": "https://localhost:8080/",
          "height": 34
        },
        "outputId": "6f182def-bd59-4e9f-9233-9bc80806d074"
      },
      "source": [
        "np.load('some_array.npy')"
      ],
      "execution_count": 120,
      "outputs": [
        {
          "output_type": "execute_result",
          "data": {
            "text/plain": [
              "array([0, 1, 2, 3, 4, 5, 6, 7, 8, 9])"
            ]
          },
          "metadata": {
            "tags": []
          },
          "execution_count": 120
        }
      ]
    },
    {
      "cell_type": "markdown",
      "metadata": {
        "id": "5Lrx53WQU7ni",
        "colab_type": "text"
      },
      "source": [
        "**Linear Algebra**"
      ]
    },
    {
      "cell_type": "code",
      "metadata": {
        "id": "ysjF29rWU-tJ",
        "colab_type": "code",
        "colab": {
          "base_uri": "https://localhost:8080/",
          "height": 221
        },
        "outputId": "cde89ae7-a8a1-48d6-82ec-48bae447345c"
      },
      "source": [
        "# Dot การคูณเมตริกซ์\n",
        "\n",
        "x = np.array([[1., 2., 3.], [4., 5., 6.]])\n",
        "print(x)\n",
        "\n",
        "print(\"--------------------------------------------------------------\")\n",
        "\n",
        "y = np.array([[6., 23.], [-1, 7], [8, 9]])\n",
        "print(y)\n",
        "\n",
        "print(\"--------------------------------------------------------------\")\n",
        "\n",
        "print(x.dot(y))\n",
        "\n",
        "print(\"--------------------------------------------------------------\")\n",
        "\n",
        "print(np.dot(x, y))"
      ],
      "execution_count": 126,
      "outputs": [
        {
          "output_type": "stream",
          "text": [
            "[[1. 2. 3.]\n",
            " [4. 5. 6.]]\n",
            "--------------------------------------------------------------\n",
            "[[ 6. 23.]\n",
            " [-1.  7.]\n",
            " [ 8.  9.]]\n",
            "--------------------------------------------------------------\n",
            "[[ 28.  64.]\n",
            " [ 67. 181.]]\n",
            "--------------------------------------------------------------\n",
            "[[ 28.  64.]\n",
            " [ 67. 181.]]\n"
          ],
          "name": "stdout"
        }
      ]
    }
  ]
}